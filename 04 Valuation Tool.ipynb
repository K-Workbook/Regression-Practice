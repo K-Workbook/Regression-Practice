{
 "cells": [
  {
   "cell_type": "code",
   "execution_count": 1,
   "metadata": {},
   "outputs": [],
   "source": [
    "from sklearn.datasets import load_boston\n",
    "from sklearn.linear_model import LinearRegression\n",
    "from sklearn.metrics import mean_squared_error\n",
    "\n",
    "import pandas as pd\n",
    "import numpy as np"
   ]
  },
  {
   "cell_type": "code",
   "execution_count": 2,
   "metadata": {},
   "outputs": [],
   "source": [
    "# gather data\n",
    "\n",
    "boston_dataset = load_boston()\n",
    "data = pd.DataFrame(data = boston_dataset.data , columns = boston_dataset.feature_names)\n",
    "data.head()\n",
    "\n",
    "features = data.drop([\"INDUS\",\"AGE\"], axis = 1)\n",
    "\n",
    "log_prices = np.log(boston_dataset.target)\n",
    "target = pd.DataFrame(log_prices, columns = [\"PRICE\"])"
   ]
  },
  {
   "cell_type": "code",
   "execution_count": 3,
   "metadata": {},
   "outputs": [],
   "source": [
    "CRIME_IDX = 0\n",
    "ZN_IDX = 1\n",
    "CHAS_IDX = 2\n",
    "RM_IDX = 4\n",
    "PTRATIO_IDX = 8\n",
    "\n",
    "#property_stats= np.ndarray(shape = (1,11))\n",
    "#property_stats[0][CRIME_IDX] = features[\"CRIM\"].mean() \n",
    "#property_stats[0][ZN_IDX] = features[\"ZN\"].mean() \n",
    "#property_stats[0][CHAS_IDX] = features[\"CHAS\"].mean() \n",
    "#property_stats[0][RM_IDX] = features[\"RM\"].mean()  \n",
    "#property_stats[0][PTRATIO_IDX] = features[\"PTRATIO\"].mean() \n",
    "\n",
    "\n",
    "# can do  : property_stats = features.mean().reshaper(1,11) to make it easier than coding each one by reshaping the array from 1d series"
   ]
  },
  {
   "cell_type": "code",
   "execution_count": 4,
   "metadata": {},
   "outputs": [],
   "source": [
    "property_stats = features.mean().values.reshape(1,11)"
   ]
  },
  {
   "cell_type": "code",
   "execution_count": 5,
   "metadata": {},
   "outputs": [],
   "source": [
    "regr = LinearRegression().fit(features, target)\n",
    "fitted_vals = regr.predict(features)"
   ]
  },
  {
   "cell_type": "code",
   "execution_count": 6,
   "metadata": {},
   "outputs": [],
   "source": [
    "MSE = mean_squared_error(target, fitted_vals)\n",
    "RMSE = np.sqrt(MSE)"
   ]
  },
  {
   "cell_type": "code",
   "execution_count": 7,
   "metadata": {},
   "outputs": [],
   "source": [
    "def get_log_estimate(nr_rooms,\n",
    "                    students_per_classroom,\n",
    "                    next_to_river = False,\n",
    "                    high_confidence = True):\n",
    "    \n",
    "    #Configure Property\n",
    "    property_stats[0][RM_IDX] = nr_rooms\n",
    "    property_stats[0][PTRATIO_IDX] = students_per_classroom\n",
    "    \n",
    "    if next_to_river :\n",
    "        property_stats[0][CHAS_IDX] = 1\n",
    "    else:\n",
    "        property_stats[0][CHAS_IDX] = 0\n",
    "            \n",
    "        \n",
    "    \n",
    "    #Make Prediction\n",
    "    log_estimate = regr.predict(property_stats)[0][0]\n",
    "    \n",
    "    #Calc Range \n",
    "    if high_confidence :\n",
    "        upper_bound = log_estimate + 2*RMSE\n",
    "        lower_bound = log_estimate - 2*RMSE\n",
    "        interval = 95\n",
    "\n",
    "    else:\n",
    "        upper_bound = log_estimate + RMSE\n",
    "        lower_bound = log_estimate - RMSE \n",
    "        interval = 68\n",
    "\n",
    "    return log_estimate, upper_bound , lower_bound , interval "
   ]
  },
  {
   "cell_type": "code",
   "execution_count": 8,
   "metadata": {},
   "outputs": [
    {
     "data": {
      "text/plain": [
       "(2.776758191480399, 3.1517824618746597, 2.4017339210861386, 95)"
      ]
     },
     "execution_count": 8,
     "metadata": {},
     "output_type": "execute_result"
    }
   ],
   "source": [
    "get_log_estimate(3,20, next_to_river= True)"
   ]
  },
  {
   "cell_type": "code",
   "execution_count": 9,
   "metadata": {},
   "outputs": [
    {
     "data": {
      "text/plain": [
       "21.2"
      ]
     },
     "execution_count": 9,
     "metadata": {},
     "output_type": "execute_result"
    }
   ],
   "source": [
    "np.median(boston_dataset.target)"
   ]
  },
  {
   "cell_type": "code",
   "execution_count": 23,
   "metadata": {},
   "outputs": [],
   "source": [
    "ZILLOW_MEAN_PRICE = 715.469\n",
    "SCALE_FACTOR = 715.468 / np.median(boston_dataset.target)\n",
    "\n",
    "log_est, upper , lower , conef = get_log_estimate(9, students_per_classroom= 15, next_to_river= False , high_confidence= False)\n",
    "\n",
    "#convert to current doller\n",
    "dollar_est =np.e**log_est * 1000 * SCALE_FACTOR\n",
    "dollar_high =np.e**upper * 1000 * SCALE_FACTOR\n",
    "dollar_low =np.e**lower * 1000 * SCALE_FACTOR\n",
    "#round dollar value to nearest 1000\n",
    "\n",
    "rounded_est = np.around(dollar_est, -3 )\n",
    "upper_est = np.around(dollar_high, -3)\n",
    "lower_est = np.around(dollar_low, -3)"
   ]
  },
  {
   "cell_type": "code",
   "execution_count": 29,
   "metadata": {},
   "outputs": [
    {
     "name": "stdout",
     "output_type": "stream",
     "text": [
      "Prices for boston house prices have a upper value of $1223000.0 and a lower bound value of $841000.0, avreging $1014000.0 acounting for inflation\n"
     ]
    },
    {
     "ename": "NameError",
     "evalue": "name 'conf' is not defined",
     "output_type": "error",
     "traceback": [
      "\u001b[1;31m---------------------------------------------------------------------------\u001b[0m",
      "\u001b[1;31mNameError\u001b[0m                                 Traceback (most recent call last)",
      "\u001b[1;32m<ipython-input-29-d488bf629b4c>\u001b[0m in \u001b[0;36m<module>\u001b[1;34m\u001b[0m\n\u001b[0;32m      1\u001b[0m \u001b[0mprint\u001b[0m\u001b[1;33m(\u001b[0m\u001b[1;34mf\"Prices for boston house prices have a upper value of ${upper_est} and a lower bound value of ${lower_est}, avreging ${rounded_est} acounting for inflation\"\u001b[0m\u001b[1;33m)\u001b[0m\u001b[1;33m\u001b[0m\u001b[1;33m\u001b[0m\u001b[0m\n\u001b[1;32m----> 2\u001b[1;33m \u001b[0mprint\u001b[0m\u001b[1;33m(\u001b[0m\u001b[1;34mf\"The conference is {conf}\"\u001b[0m\u001b[1;33m)\u001b[0m\u001b[1;33m\u001b[0m\u001b[1;33m\u001b[0m\u001b[0m\n\u001b[0m",
      "\u001b[1;31mNameError\u001b[0m: name 'conf' is not defined"
     ]
    }
   ],
   "source": [
    "print(f\"Prices for boston house prices have a upper value of ${upper_est} and a lower bound value of ${lower_est}, avreging ${rounded_est} acounting for inflation\")"
   ]
  },
  {
   "cell_type": "code",
   "execution_count": 44,
   "metadata": {},
   "outputs": [],
   "source": [
    "def get_dollar_estimate(rm,ptratio, chas = False , large_range = True) :\n",
    "    \"\"\"Estimate price of a house in Boston\n",
    "    rm - rooms in propery\n",
    "    ptratio - pupils per teacher\n",
    "    chas - is it next to chas river, True or False\n",
    "    \"\"\"\n",
    "    if rm<1 or ptratio > 30:\n",
    "        print(\"That is unrealistic, please try again\")\n",
    "        return\n",
    "\n",
    "    \n",
    "    ZILLOW_MEAN_PRICE = 715.469\n",
    "    SCALE_FACTOR = 715.468 / np.median(boston_dataset.target)\n",
    "\n",
    "    log_est, upper , lower , conf = get_log_estimate(rm, ptratio, \n",
    "                                                      next_to_river = chas,\n",
    "                                                      high_confidence = large_range)\n",
    "#convert to current doller\n",
    "    dollar_est =np.e**log_est * 1000 * SCALE_FACTOR\n",
    "    dollar_high =np.e**upper * 1000 * SCALE_FACTOR\n",
    "    dollar_low =np.e**lower * 1000 * SCALE_FACTOR\n",
    "#round dollar value to nearest 1000\n",
    "\n",
    "    rounded_est = np.around(dollar_est, -3 )\n",
    "    upper_est = np.around(dollar_high, -3)\n",
    "    lower_est = np.around(dollar_low, -3)\n",
    "\n",
    "    print(f\"The estimated property value is {rounded_est}\")\n",
    "    print(f\"At confidence {conf} the value range is :\")\n",
    "    print(f\"${lower_est} at the lower end, ${upper_est} at the high end\")"
   ]
  },
  {
   "cell_type": "code",
   "execution_count": 47,
   "metadata": {},
   "outputs": [
    {
     "name": "stdout",
     "output_type": "stream",
     "text": [
      "The estimated property value is 679000.0\n",
      "At confidence 95 the value range is :\n",
      "$466000.0 at the lower end, $988000.0 at the high end\n"
     ]
    }
   ],
   "source": [
    "get_dollar_estimate(rm = 3, ptratio=14, chas= True)"
   ]
  },
  {
   "cell_type": "code",
   "execution_count": null,
   "metadata": {},
   "outputs": [],
   "source": []
  }
 ],
 "metadata": {
  "kernelspec": {
   "display_name": "Python 3",
   "language": "python",
   "name": "python3"
  },
  "language_info": {
   "codemirror_mode": {
    "name": "ipython",
    "version": 3
   },
   "file_extension": ".py",
   "mimetype": "text/x-python",
   "name": "python",
   "nbconvert_exporter": "python",
   "pygments_lexer": "ipython3",
   "version": "3.8.3"
  }
 },
 "nbformat": 4,
 "nbformat_minor": 4
}
